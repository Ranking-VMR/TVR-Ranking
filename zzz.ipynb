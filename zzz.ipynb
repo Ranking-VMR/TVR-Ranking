{
 "cells": [
  {
   "cell_type": "code",
   "execution_count": null,
   "metadata": {},
   "outputs": [],
   "source": [
    "from utils.basic_utils import load_jsonl, save_jsonl, load_json\n",
    "\n",
    "\n",
    "result_path = \"results/single_train/tvr-video_sub_tef-demo-2024_02_26_18_11_17/best_tvr_val_predictions_VCMR.json\"\n",
    "data = load_json(result_path)"
   ]
  },
  {
   "cell_type": "code",
   "execution_count": null,
   "metadata": {},
   "outputs": [],
   "source": [
    "def calculate_dcg(scores):\n",
    "    return sum((2**score - 1) / np.log2(idx + 2) for idx, score in enumerate(scores))\n",
    "\n",
    "# Function to calculate NDCG\n",
    "def calculate_ndcg(pred_scores, true_scores):\n",
    "    dcg = calculate_dcg(pred_scores)\n",
    "    idcg = calculate_dcg(sorted(true_scores, reverse=True))\n",
    "    return dcg / idcg if idcg > 0 else 0\n"
   ]
  },
  {
   "cell_type": "code",
   "execution_count": null,
   "metadata": {},
   "outputs": [],
   "source": []
  }
 ],
 "metadata": {
  "language_info": {
   "name": "python"
  }
 },
 "nbformat": 4,
 "nbformat_minor": 2
}
