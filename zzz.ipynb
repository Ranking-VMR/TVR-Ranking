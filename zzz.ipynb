{
 "cells": [
  {
   "cell_type": "code",
   "execution_count": null,
   "metadata": {},
   "outputs": [],
   "source": [
    "from utils.basic_utils import load_jsonl, save_jsonl, load_json\n",
    "\n",
    "\n",
    "result_path = \"results/single_train/tvr-video_sub_tef-demo-2024_02_26_18_11_17/best_tvr_val_predictions_VCMR.json\"\n",
    "data = load_json(result_path)"
   ]
  },
  {
   "cell_type": "code",
   "execution_count": null,
   "metadata": {},
   "outputs": [],
   "source": []
  }
 ],
 "metadata": {
  "language_info": {
   "name": "python"
  }
 },
 "nbformat": 4,
 "nbformat_minor": 2
}
